{
  "nbformat": 4,
  "nbformat_minor": 0,
  "metadata": {
    "colab": {
      "provenance": []
    },
    "kernelspec": {
      "name": "python3",
      "display_name": "Python 3"
    },
    "language_info": {
      "name": "python"
    }
  },
  "cells": [
    {
      "cell_type": "code",
      "source": [
        "a = int(input('Digite o primeiro valor: '))\n",
        "b = int(input('Digite o segundo valor: '))\n",
        "\n",
        "operacao = input('qual operação deseja fazer\\n 1 - adição\\n 2 - subtração\\n 3 - multiplicação\\n 4 - divisão\\n escolha:')\n",
        "\n",
        "if operacao == '1':\n",
        "    print(a + b)\n",
        "elif operacao == '2':\n",
        "    print(a - b)\n",
        "elif operacao == '3':\n",
        "    print(a * b)\n",
        "elif operacao == '4':\n",
        "    print(a / b)"
      ],
      "metadata": {
        "colab": {
          "base_uri": "https://localhost:8080/"
        },
        "id": "19CXmzv1G1lT",
        "outputId": "6e831b1d-e955-4988-b9b1-8954cc522380"
      },
      "execution_count": 7,
      "outputs": [
        {
          "output_type": "stream",
          "name": "stdout",
          "text": [
            "Digite o primeiro valor: 10\n",
            "Digite o segundo valor: 30\n",
            "qual operação deseja fazer\n",
            " 1 - adição\n",
            " 2 - subtração\n",
            " 3 - multiplicação\n",
            " 4 - divisão\n",
            " escolha:1\n",
            "40\n"
          ]
        }
      ]
    }
  ]
}